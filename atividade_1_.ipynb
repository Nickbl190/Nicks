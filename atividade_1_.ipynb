{
  "nbformat": 4,
  "nbformat_minor": 0,
  "metadata": {
    "colab": {
      "provenance": []
    },
    "kernelspec": {
      "name": "python3",
      "display_name": "Python 3"
    },
    "language_info": {
      "name": "python"
    }
  },
  "cells": [
    {
      "cell_type": "code",
      "execution_count": 4,
      "metadata": {
        "id": "esLKQtNh__Jj"
      },
      "outputs": [],
      "source": [
        "def calculadora():\n",
        "    while True:  # Laço de repetição para realizar várias operações consecutivas\n",
        "        print(\"Escolha uma operação matemática:\")\n",
        "        print(\"1 - Soma\")\n",
        "        print(\"2 - Subtração\")\n",
        "        print(\"3 - Multiplicação\")\n",
        "        print(\"4 - Divisão\")\n",
        "        print(\"5 - Sair\")\n",
        "\n",
        "        escolha = input(\"Digite o número correspondente à operação desejada: \")\n",
        "\n",
        "        if escolha == '5':  # Condicional para sair do programa\n",
        "            print(\"Encerrando a calculadora. Até mais!\")\n",
        "            break\n",
        "\n",
        "        num1 = input(\"Digite o primeiro número: \")\n",
        "        num2 = input(\"Digite o segundo número: \")\n",
        "\n",
        "        try:\n",
        "            num1 = float(num1)  # Converte para ponto flutuante\n",
        "            num2 = float(num2)  # Converte para ponto flutuante\n",
        "        except ValueError:\n",
        "            print(\"Por favor, insira números válidos!\")\n",
        "            continue\n",
        "\n",
        "        if escolha == '1':\n",
        "            resultado = num1 + num2\n",
        "            print(f\"Resultado da soma: {resultado}\")\n",
        "        elif escolha == '2':\n",
        "            resultado = num1 - num2\n",
        "            print(f\"Resultado da subtração: {resultado}\")\n",
        "        elif escolha == '3':\n",
        "            resultado = num1 * num2\n",
        "            print(f\"Resultado da multiplicação: {resultado}\")\n",
        "        elif escolha == '4':\n",
        "            if num2 != 0:\n",
        "                resultado = num1 / num2\n",
        "                print(f\"Resultado da divisão: {resultado}\")\n",
        "            else:\n",
        "                print(\"Não é possível dividir por zero!\")\n",
        "        else:\n",
        "            print(\"Opção inválida. Tente novamente.\")\n"
      ]
    }
  ]
}